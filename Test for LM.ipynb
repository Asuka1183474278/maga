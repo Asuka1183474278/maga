{
 "cells": [
  {
   "cell_type": "code",
   "execution_count": 18,
   "outputs": [
    {
     "name": "stderr",
     "output_type": "stream",
     "text": [
      "<ipython-input-18-9502b000083e>:3: VisibleDeprecationWarning: Creating an ndarray from ragged nested sequences (which is a list-or-tuple of lists-or-tuples-or ndarrays with different lengths or shapes) is deprecated. If you meant to do this, you must specify 'dtype=object' when creating the ndarray.\n",
      "  SensorPosition = np.array([\n"
     ]
    }
   ],
   "source": [
    "import numpy as np\n",
    "# 16个传感器位置\n",
    "SensorPosition = np.array([\n",
    "    [[0.12], [0.12], [0]],\n",
    "    [0.12], [0.04], [0],\n",
    "    [[0.12], [-0.04], [0]],\n",
    "    [[0.12], [-0.12], [0]],\n",
    "    [[0.04], [0.12], [0]],\n",
    "    [[0.04], [0.04], [0]],\n",
    "    [[0.04], [-0.04], [0]],\n",
    "    [[0.04], [-0.12], [0]],\n",
    "    [[-0.04], [0.12], [0]],\n",
    "    [[-0.04], [0.04], [0]],\n",
    "    [[-0.04], [-0.04], [0]],\n",
    "    [[-0.04], [-0.12], [0]],\n",
    "    [[-0.12], [0.12], [0]],\n",
    "    [[-0.12], [0.04], [0]],\n",
    "    [[-0.12], [-0.04], [0]],\n",
    "    [[-0.12], [-0.12], [0]]\n",
    "     ])"
   ],
   "metadata": {
    "collapsed": false,
    "pycharm": {
     "name": "#%%\n"
    }
   }
  },
  {
   "cell_type": "code",
   "execution_count": 19,
   "outputs": [],
   "source": [
    "# 磁铁位置范围\n",
    "length=200  #测试点个数\n",
    "x11 = -0.12; x12 = 0.12;\n",
    "y11 = -0.12; y12 = 0.12;\n",
    "z11 = 0.05; z12 = 0.25;\n",
    "\n",
    "xx1 = np.array([[x11], [y11], [z11], [0], [0]])\n",
    "xx2 = np.array([[x12], [y12], [z12], [np.pi/2], [np.pi/2]])\n",
    "Traj = np.empty((200, 5,1))\n",
    "for i in range(length):\n",
    "    Traj[i, :] = xx1 + (xx2 -xx1) * np.random.rand(5,1)"
   ],
   "metadata": {
    "collapsed": false,
    "pycharm": {
     "name": "#%%\n"
    }
   }
  },
  {
   "cell_type": "code",
   "execution_count": 20,
   "outputs": [],
   "source": [
    "# 磁矩M\n",
    "mag_diameter = 6.05e-3\n",
    "mag_length = 1.25e-3\n",
    "mag_BR = 14800\n",
    "mag_BT = mag_BR* (mag_diameter**2) * (mag_length / 16)\n",
    "M = np.empty((200,3,1))\n",
    "for i in range(length):\n",
    "    M[i, :] = np.array([np.sin(Traj[i, 3]) * np.cos(Traj[i, 4]), np.sin(Traj[i, 3]) * np.sin(Traj[i, 4]), np.cos(Traj[i, 4])])\n",
    "\n"
   ],
   "metadata": {
    "collapsed": false,
    "pycharm": {
     "name": "#%%\n"
    }
   }
  },
  {
   "cell_type": "code",
   "execution_count": 21,
   "outputs": [],
   "source": [
    "theoryData = np.empty((16, 200, 3, 1))\n",
    "for j in range(16):\n",
    "    for i in range(200):\n",
    "        R = np.linalg.norm(SensorPosition[j] - Traj[i, 0:3])\n",
    "        theoryData[j, i] = (mag_BT * 3 * np.dot(M[i].T, SensorPosition[j] - Traj[i, 0:3])* (SensorPosition[j] - Traj[i, 0:3])- (R **2) * M[i] )/ (R ** 5)\n"
   ],
   "metadata": {
    "collapsed": false,
    "pycharm": {
     "name": "#%%\n"
    }
   }
  },
  {
   "cell_type": "code",
   "execution_count": 22,
   "outputs": [
    {
     "name": "stderr",
     "output_type": "stream",
     "text": [
      "<ipython-input-22-99f749967be9>:2: DeprecationWarning: `np.int` is a deprecated alias for the builtin `int`. To silence this warning, use `int` by itself. Doing this will not modify any behavior and is safe. When replacing `np.int`, you may wish to use e.g. `np.int64` or `np.int32` to specify the precision. If you wish to review your current use, check the release note link for additional information.\n",
      "Deprecated in NumPy 1.20; for more details and guidance: https://numpy.org/devdocs/release/1.20.0-notes.html#deprecations\n",
      "  Gain = np.empty((16, 3, 1),dtype=np.int)\n"
     ]
    }
   ],
   "source": [
    "# 16个传感器增益\n",
    "Gain = np.empty((16, 3, 1),dtype=np.int)\n",
    "for i in range(16):\n",
    "    Gain[i] = np.array([[1800], [1800], [1800]]) +  200 * np.random.rand(3,1)\n",
    "\n",
    "#传感器偏置\n",
    "Offset = np.empty((16, 3, 1))\n",
    "for i in range(16):\n",
    "    Offset[i] = np.random.uniform(-0.05, 0.05, (3,1))\n",
    "\n",
    "#传感器旋转矩阵\n",
    "H = np.ones((16,3,1))"
   ],
   "metadata": {
    "collapsed": false,
    "pycharm": {
     "name": "#%%\n"
    }
   }
  },
  {
   "cell_type": "code",
   "execution_count": 23,
   "outputs": [],
   "source": [
    "import test\n",
    "params = np.zeros((9,1))\n",
    "params[0, 0] = Gain[0,0,0]\n",
    "params[1, 0] = Gain[0,1,0]\n",
    "params[2, 0] = Gain[0,2,0]\n",
    "params[3, 0] = H[0,0,0]\n",
    "params[4, 0] = H[0,1,0]\n",
    "params[5, 0] = H[0,2,0]\n",
    "params[6, 0] = Offset[0,0,0]\n",
    "params[7, 0] = Offset[0,1,0]\n",
    "params[8, 0] = Offset[0,2,0]\n",
    "\n",
    "data_input = theoryData[0]\n",
    "data_output = test.generate_data(params,theoryData[0])"
   ],
   "metadata": {
    "collapsed": false,
    "pycharm": {
     "name": "#%%\n"
    }
   }
  },
  {
   "cell_type": "code",
   "execution_count": 24,
   "outputs": [],
   "source": [
    "params = np.zeros((9, 1))\n",
    "params[0, 0] = 1600\n",
    "params[1, 0] = 1600\n",
    "params[2, 0] = 1600\n",
    "params[3, 0] = 0.93\n",
    "params[4, 0] = 0.94\n",
    "params[5, 0] = 0.95\n",
    "params[6, 0] = 0.01\n",
    "params[7, 0] = -0.005\n",
    "params[8, 0] = 0.0006\n",
    "\n",
    "G1 = params[0, 0]\n",
    "G2 = params[1, 0]\n",
    "G3 = params[2, 0]\n",
    "H1 = params[3, 0]\n",
    "H2 = params[4, 0]\n",
    "H3 = params[5, 0]\n",
    "O1 = params[6, 0]\n",
    "O2 = params[7, 0]\n",
    "O3 = params[8, 0]"
   ],
   "metadata": {
    "collapsed": false,
    "pycharm": {
     "name": "#%%\n"
    }
   }
  },
  {
   "cell_type": "code",
   "execution_count": 25,
   "outputs": [],
   "source": [
    "J = test.cal_Jacobian(params,theoryData[0]).reshape(200,9,3)\n",
    "residual = test.cal_residual(params,data_input, data_output)"
   ],
   "metadata": {
    "collapsed": false,
    "pycharm": {
     "name": "#%%\n"
    }
   }
  },
  {
   "cell_type": "code",
   "execution_count": 26,
   "outputs": [],
   "source": [
    "A0 = J[:,:,0].T.dot(J[:,:,0])\n",
    "A1 = J[:,:,1].T.dot(J[:,:,1])\n",
    "A2 = J[:,:,2].T.dot(J[:,:,2])\n",
    "A = A0 + A1 + A2"
   ],
   "metadata": {
    "collapsed": false,
    "pycharm": {
     "name": "#%%\n"
    }
   }
  },
  {
   "cell_type": "code",
   "execution_count": 27,
   "outputs": [],
   "source": [
    "g0 = J[:,:,0].T.dot(residual[:,0])\n",
    "g1 = J[:,:,1].T.dot(residual[:,1])\n",
    "g2 = J[:,:,2].T.dot(residual[:,2])\n",
    "g = g0 + g1 + g2"
   ],
   "metadata": {
    "collapsed": false,
    "pycharm": {
     "name": "#%%\n"
    }
   }
  },
  {
   "cell_type": "code",
   "execution_count": 28,
   "outputs": [],
   "source": [
    "u0 = test.get_init_u(A0, 10**-3)\n",
    "u1 = test.get_init_u(A1, 10**-3)\n",
    "u2 = test.get_init_u(A2, 10**-3)\n",
    "u = u0 + u1 + u2"
   ],
   "metadata": {
    "collapsed": false,
    "pycharm": {
     "name": "#%%\n"
    }
   }
  },
  {
   "cell_type": "code",
   "execution_count": 29,
   "outputs": [],
   "source": [
    "Hessian_LM0 = A0 + u0 * np.eye(9)\n",
    "Hessian_LM1 = A1 + u1 * np.eye(9)\n",
    "Hessian_LM2 = A2 + u2 * np.eye(9)\n",
    "Hessian_LM = Hessian_LM0 + Hessian_LM1 + Hessian_LM2\n",
    "HM_INV = np.linalg.inv(Hessian_LM)"
   ],
   "metadata": {
    "collapsed": false,
    "pycharm": {
     "name": "#%%\n"
    }
   }
  },
  {
   "cell_type": "code",
   "execution_count": 30,
   "outputs": [],
   "source": [
    "step0 = np.linalg.inv(Hessian_LM0).dot(g0)\n",
    "step1 = np.linalg.inv(Hessian_LM1).dot(g1)\n",
    "step2 = np.linalg.inv(Hessian_LM2).dot(g2)\n",
    "ste = np.linalg.inv(Hessian_LM).dot(g)\n",
    "step = step0 + step1 + step2"
   ],
   "metadata": {
    "collapsed": false,
    "pycharm": {
     "name": "#%%\n"
    }
   }
  },
  {
   "cell_type": "code",
   "execution_count": 31,
   "outputs": [],
   "source": [
    "new_params = params + step0 + step1 +step2"
   ],
   "metadata": {
    "collapsed": false,
    "pycharm": {
     "name": "#%%\n"
    }
   }
  },
  {
   "cell_type": "code",
   "execution_count": 32,
   "outputs": [],
   "source": [
    "new_residual = test.cal_residual(new_params,data_input, data_output)"
   ],
   "metadata": {
    "collapsed": false,
    "pycharm": {
     "name": "#%%\n"
    }
   }
  },
  {
   "cell_type": "code",
   "execution_count": 33,
   "outputs": [],
   "source": [
    "rou = (np.linalg.norm(residual) ** 2 - np.linalg.norm(new_residual) ** 2) / (step.T.dot(u * step + g))"
   ],
   "metadata": {
    "collapsed": false,
    "pycharm": {
     "name": "#%%\n"
    }
   }
  },
  {
   "cell_type": "code",
   "execution_count": 36,
   "outputs": [],
   "source": [
    "params = test.LM(200,params,theoryData[0],data_output)"
   ],
   "metadata": {
    "collapsed": false,
    "pycharm": {
     "name": "#%%\n"
    }
   }
  },
  {
   "cell_type": "code",
   "execution_count": 37,
   "outputs": [],
   "source": [
    "check = test.my_Func(params,theoryData[0])"
   ],
   "metadata": {
    "collapsed": false,
    "pycharm": {
     "name": "#%%\n"
    }
   }
  },
  {
   "cell_type": "code",
   "execution_count": null,
   "outputs": [],
   "source": [],
   "metadata": {
    "collapsed": false,
    "pycharm": {
     "name": "#%%\n"
    }
   }
  }
 ],
 "metadata": {
  "kernelspec": {
   "name": "asuka",
   "language": "python",
   "display_name": "Asuka"
  },
  "language_info": {
   "codemirror_mode": {
    "name": "ipython",
    "version": 2
   },
   "file_extension": ".py",
   "mimetype": "text/x-python",
   "name": "python",
   "nbconvert_exporter": "python",
   "pygments_lexer": "ipython2",
   "version": "2.7.6"
  }
 },
 "nbformat": 4,
 "nbformat_minor": 0
}