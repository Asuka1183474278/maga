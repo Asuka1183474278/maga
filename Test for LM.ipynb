{
 "cells": [
  {
   "cell_type": "code",
   "execution_count": 7,
   "outputs": [
    {
     "name": "stderr",
     "output_type": "stream",
     "text": [
      "<ipython-input-7-9502b000083e>:3: VisibleDeprecationWarning: Creating an ndarray from ragged nested sequences (which is a list-or-tuple of lists-or-tuples-or ndarrays with different lengths or shapes) is deprecated. If you meant to do this, you must specify 'dtype=object' when creating the ndarray.\n",
      "  SensorPosition = np.array([\n"
     ]
    }
   ],
   "source": [
    "import numpy as np\n",
    "# 16个传感器位置\n",
    "SensorPosition = np.array([\n",
    "    [[0.12], [0.12], [0]],\n",
    "    [0.12], [0.04], [0],\n",
    "    [[0.12], [-0.04], [0]],\n",
    "    [[0.12], [-0.12], [0]],\n",
    "    [[0.04], [0.12], [0]],\n",
    "    [[0.04], [0.04], [0]],\n",
    "    [[0.04], [-0.04], [0]],\n",
    "    [[0.04], [-0.12], [0]],\n",
    "    [[-0.04], [0.12], [0]],\n",
    "    [[-0.04], [0.04], [0]],\n",
    "    [[-0.04], [-0.04], [0]],\n",
    "    [[-0.04], [-0.12], [0]],\n",
    "    [[-0.12], [0.12], [0]],\n",
    "    [[-0.12], [0.04], [0]],\n",
    "    [[-0.12], [-0.04], [0]],\n",
    "    [[-0.12], [-0.12], [0]]\n",
    "     ])"
   ],
   "metadata": {
    "collapsed": false,
    "pycharm": {
     "name": "#%%\n"
    }
   }
  },
  {
   "cell_type": "code",
   "execution_count": 8,
   "outputs": [],
   "source": [
    "# 磁铁位置范围\n",
    "length=200  #测试点个数\n",
    "x11 = -0.12; x12 = 0.12;\n",
    "y11 = -0.12; y12 = 0.12;\n",
    "z11 = 0.05; z12 = 0.25;\n",
    "\n",
    "xx1 = np.array([[x11], [y11], [z11], [0], [0]])\n",
    "xx2 = np.array([[x12], [y12], [z12], [np.pi/2], [np.pi/2]])\n",
    "Traj = np.empty((200, 5,1))\n",
    "for i in range(length):\n",
    "    Traj[i, :] = xx1 + (xx2 -xx1) * np.random.rand(5,1)"
   ],
   "metadata": {
    "collapsed": false,
    "pycharm": {
     "name": "#%%\n"
    }
   }
  },
  {
   "cell_type": "code",
   "execution_count": 9,
   "outputs": [],
   "source": [
    "# 磁矩M\n",
    "mag_diameter = 6.05e-3\n",
    "mag_length = 1.25e-3\n",
    "mag_BR = 14800\n",
    "mag_BT = mag_BR* (mag_diameter**2) * (mag_length / 16)\n",
    "M = np.empty((200,3,1))\n",
    "for i in range(length):\n",
    "    M[i, :] = np.array([np.sin(Traj[i, 3]) * np.cos(Traj[i, 4]), np.sin(Traj[i, 3]) * np.sin(Traj[i, 4]), np.cos(Traj[i, 4])])\n",
    "\n"
   ],
   "metadata": {
    "collapsed": false,
    "pycharm": {
     "name": "#%%\n"
    }
   }
  },
  {
   "cell_type": "code",
   "execution_count": 10,
   "outputs": [],
   "source": [
    "theoryData = np.empty((16, 200, 3, 1))\n",
    "for j in range(16):\n",
    "    for i in range(200):\n",
    "        R = np.linalg.norm(SensorPosition[j] - Traj[i, 0:3])\n",
    "        theoryData[j, i] = (mag_BT * 3 * np.dot(M[i].T, SensorPosition[j] - Traj[i, 0:3])* (SensorPosition[j] - Traj[i, 0:3])- (R **2) * M[i] )/ (R ** 5)\n"
   ],
   "metadata": {
    "collapsed": false,
    "pycharm": {
     "name": "#%%\n"
    }
   }
  },
  {
   "cell_type": "code",
   "execution_count": 11,
   "outputs": [
    {
     "name": "stderr",
     "output_type": "stream",
     "text": [
      "<ipython-input-11-99f749967be9>:2: DeprecationWarning: `np.int` is a deprecated alias for the builtin `int`. To silence this warning, use `int` by itself. Doing this will not modify any behavior and is safe. When replacing `np.int`, you may wish to use e.g. `np.int64` or `np.int32` to specify the precision. If you wish to review your current use, check the release note link for additional information.\n",
      "Deprecated in NumPy 1.20; for more details and guidance: https://numpy.org/devdocs/release/1.20.0-notes.html#deprecations\n",
      "  Gain = np.empty((16, 3, 1),dtype=np.int)\n"
     ]
    }
   ],
   "source": [
    "# 16个传感器增益\n",
    "Gain = np.empty((16, 3, 1),dtype=np.int)\n",
    "for i in range(16):\n",
    "    Gain[i] = np.array([[1800], [1800], [1800]]) +  200 * np.random.rand(3,1)\n",
    "\n",
    "#传感器偏置\n",
    "Offset = np.empty((16, 3, 1))\n",
    "for i in range(16):\n",
    "    Offset[i] = np.random.uniform(-0.05, 0.05, (3,1))\n",
    "\n",
    "#传感器旋转矩阵\n",
    "H = np.ones((16,3,1))"
   ],
   "metadata": {
    "collapsed": false,
    "pycharm": {
     "name": "#%%\n"
    }
   }
  },
  {
   "cell_type": "code",
   "execution_count": 12,
   "outputs": [],
   "source": [
    "import test\n",
    "params = np.zeros((9,1))\n",
    "params[0, 0] = Gain[0,0,0]\n",
    "params[1, 0] = Gain[0,1,0]\n",
    "params[2, 0] = Gain[0,2,0]\n",
    "params[3, 0] = H[0,0,0]\n",
    "params[4, 0] = H[0,1,0]\n",
    "params[5, 0] = H[0,2,0]\n",
    "params[6, 0] = Offset[0,0,0]\n",
    "params[7, 0] = Offset[0,1,0]\n",
    "params[8, 0] = Offset[0,2,0]\n",
    "\n",
    "data_input = theoryData[0]\n"
   ],
   "metadata": {
    "collapsed": false,
    "pycharm": {
     "name": "#%%\n"
    }
   }
  },
  {
   "cell_type": "code",
   "execution_count": 13,
   "outputs": [],
   "source": [
    "params = np.zeros((9, 1))\n",
    "params[0, 0] = 1600\n",
    "params[1, 0] = 1600\n",
    "params[2, 0] = 1600\n",
    "params[3, 0] = 0.93\n",
    "params[4, 0] = 0.94\n",
    "params[5, 0] = 0.95\n",
    "params[6, 0] = 0.01\n",
    "params[7, 0] = -0.005\n",
    "params[8, 0] = 0.0006\n",
    "\n",
    "G1 = params[0, 0]\n",
    "G2 = params[1, 0]\n",
    "G3 = params[2, 0]\n",
    "H1 = params[3, 0]\n",
    "H2 = params[4, 0]\n",
    "H3 = params[5, 0]\n",
    "O1 = params[6, 0]\n",
    "O2 = params[7, 0]\n",
    "O3 = params[8, 0]\n"
   ],
   "metadata": {
    "collapsed": false,
    "pycharm": {
     "name": "#%%\n"
    }
   }
  },
  {
   "cell_type": "code",
   "execution_count": 29,
   "outputs": [],
   "source": [
    "R = test.EulerToMatrix(np.array([[H1], [H2], [H3]]))"
   ],
   "metadata": {
    "collapsed": false,
    "pycharm": {
     "name": "#%%\n"
    }
   }
  },
  {
   "cell_type": "code",
   "execution_count": 30,
   "outputs": [
    {
     "data": {
      "text/plain": "array([[1599.56477773,  -26.09831653,   26.67207772],\n       [  26.52421907, 1599.57639761,  -25.5306487 ],\n       [ -26.2485744 ,   25.96586403, 1599.57393897]])"
     },
     "execution_count": 30,
     "metadata": {},
     "output_type": "execute_result"
    }
   ],
   "source": [
    "np.diag([G1,G2,G3]).dot(R)"
   ],
   "metadata": {
    "collapsed": false,
    "pycharm": {
     "name": "#%%\n"
    }
   }
  },
  {
   "cell_type": "code",
   "execution_count": 31,
   "outputs": [
    {
     "data": {
      "text/plain": "array([[1599.56477773,  -26.09831653,   26.67207772],\n       [  26.52421907, 1599.57639761,  -25.5306487 ],\n       [ -26.2485744 ,   25.96586403, 1599.57393897]])"
     },
     "execution_count": 31,
     "metadata": {},
     "output_type": "execute_result"
    }
   ],
   "source": [
    "np.dot(np.diag([G1,G2,G3]), R)"
   ],
   "metadata": {
    "collapsed": false,
    "pycharm": {
     "name": "#%%\n"
    }
   }
  },
  {
   "cell_type": "code",
   "execution_count": 32,
   "outputs": [
    {
     "ename": "IndexError",
     "evalue": "index 1 is out of bounds for axis 0 with size 1",
     "output_type": "error",
     "traceback": [
      "\u001B[0;31m---------------------------------------------------------------------------\u001B[0m",
      "\u001B[0;31mIndexError\u001B[0m                                Traceback (most recent call last)",
      "\u001B[0;32m<ipython-input-32-2490ca200a65>\u001B[0m in \u001B[0;36m<module>\u001B[0;34m\u001B[0m\n\u001B[0;32m----> 1\u001B[0;31m \u001B[0mtest\u001B[0m\u001B[0;34m.\u001B[0m\u001B[0mmy_Func\u001B[0m\u001B[0;34m(\u001B[0m\u001B[0mparams\u001B[0m\u001B[0;34m,\u001B[0m\u001B[0mtheoryData\u001B[0m\u001B[0;34m[\u001B[0m\u001B[0;36m0\u001B[0m\u001B[0;34m]\u001B[0m\u001B[0;34m)\u001B[0m\u001B[0;34m\u001B[0m\u001B[0;34m\u001B[0m\u001B[0m\n\u001B[0m",
      "\u001B[0;32m/media/asuka/LINUX2/Pycharm-Projects/磁定位/test.py\u001B[0m in \u001B[0;36mmy_Func\u001B[0;34m(params, input_data)\u001B[0m\n\u001B[1;32m     40\u001B[0m     \u001B[0mX\u001B[0m \u001B[0;34m=\u001B[0m \u001B[0mnp\u001B[0m\u001B[0;34m.\u001B[0m\u001B[0mzeros\u001B[0m\u001B[0;34m(\u001B[0m\u001B[0;34m(\u001B[0m\u001B[0;36m200\u001B[0m\u001B[0;34m,\u001B[0m \u001B[0;36m3\u001B[0m\u001B[0;34m,\u001B[0m \u001B[0;36m1\u001B[0m\u001B[0;34m)\u001B[0m\u001B[0;34m)\u001B[0m\u001B[0;34m\u001B[0m\u001B[0;34m\u001B[0m\u001B[0m\n\u001B[1;32m     41\u001B[0m     \u001B[0mR\u001B[0m \u001B[0;34m=\u001B[0m \u001B[0mEulerToMatrix\u001B[0m\u001B[0;34m(\u001B[0m\u001B[0mnp\u001B[0m\u001B[0;34m.\u001B[0m\u001B[0marray\u001B[0m\u001B[0;34m(\u001B[0m\u001B[0;34m[\u001B[0m\u001B[0;34m[\u001B[0m\u001B[0mH1\u001B[0m\u001B[0;34m]\u001B[0m\u001B[0;34m,\u001B[0m \u001B[0;34m[\u001B[0m\u001B[0mH2\u001B[0m\u001B[0;34m]\u001B[0m\u001B[0;34m,\u001B[0m \u001B[0;34m[\u001B[0m\u001B[0mH3\u001B[0m\u001B[0;34m]\u001B[0m\u001B[0;34m]\u001B[0m\u001B[0;34m)\u001B[0m\u001B[0;34m)\u001B[0m\u001B[0;34m\u001B[0m\u001B[0;34m\u001B[0m\u001B[0m\n\u001B[0;32m---> 42\u001B[0;31m     \u001B[0;32mfor\u001B[0m \u001B[0mi\u001B[0m \u001B[0;32min\u001B[0m \u001B[0mrange\u001B[0m\u001B[0;34m(\u001B[0m\u001B[0;36m0\u001B[0m\u001B[0;34m,\u001B[0m \u001B[0;36m200\u001B[0m\u001B[0;34m)\u001B[0m\u001B[0;34m:\u001B[0m\u001B[0;34m\u001B[0m\u001B[0;34m\u001B[0m\u001B[0m\n\u001B[0m\u001B[1;32m     43\u001B[0m         \u001B[0mX\u001B[0m\u001B[0;34m[\u001B[0m\u001B[0mi\u001B[0m\u001B[0;34m]\u001B[0m \u001B[0;34m=\u001B[0m \u001B[0mnp\u001B[0m\u001B[0;34m.\u001B[0m\u001B[0mdot\u001B[0m\u001B[0;34m(\u001B[0m\u001B[0mnp\u001B[0m\u001B[0;34m.\u001B[0m\u001B[0mdiag\u001B[0m\u001B[0;34m(\u001B[0m\u001B[0;34m[\u001B[0m\u001B[0mG1\u001B[0m\u001B[0;34m,\u001B[0m\u001B[0mG2\u001B[0m\u001B[0;34m,\u001B[0m\u001B[0mG3\u001B[0m\u001B[0;34m]\u001B[0m\u001B[0;34m)\u001B[0m\u001B[0;34m,\u001B[0m \u001B[0mR\u001B[0m\u001B[0;34m)\u001B[0m\u001B[0;34m.\u001B[0m\u001B[0mdot\u001B[0m\u001B[0;34m(\u001B[0m\u001B[0minput_data\u001B[0m\u001B[0;34m[\u001B[0m\u001B[0mi\u001B[0m\u001B[0;34m]\u001B[0m\u001B[0;34m)\u001B[0m \u001B[0;34m+\u001B[0m \u001B[0mnp\u001B[0m\u001B[0;34m.\u001B[0m\u001B[0marray\u001B[0m\u001B[0;34m(\u001B[0m\u001B[0;34m[\u001B[0m\u001B[0;34m[\u001B[0m\u001B[0mO1\u001B[0m\u001B[0;34m]\u001B[0m\u001B[0;34m,\u001B[0m \u001B[0;34m[\u001B[0m\u001B[0mO2\u001B[0m\u001B[0;34m]\u001B[0m\u001B[0;34m,\u001B[0m \u001B[0;34m[\u001B[0m\u001B[0mO3\u001B[0m\u001B[0;34m]\u001B[0m\u001B[0;34m]\u001B[0m\u001B[0;34m)\u001B[0m\u001B[0;34m\u001B[0m\u001B[0;34m\u001B[0m\u001B[0m\n\u001B[1;32m     44\u001B[0m     \u001B[0;32mreturn\u001B[0m \u001B[0mX\u001B[0m\u001B[0;34m\u001B[0m\u001B[0;34m\u001B[0m\u001B[0m\n",
      "\u001B[0;32m/media/asuka/LINUX2/Pycharm-Projects/磁定位/test.py\u001B[0m in \u001B[0;36mEulerToMatrix\u001B[0;34m(H)\u001B[0m\n\u001B[1;32m     14\u001B[0m \u001B[0;31m# 欧拉角算旋转矩阵   Η[3，1]传感器角度 x y z\u001B[0m\u001B[0;34m\u001B[0m\u001B[0;34m\u001B[0m\u001B[0;34m\u001B[0m\u001B[0m\n\u001B[1;32m     15\u001B[0m \u001B[0;32mdef\u001B[0m \u001B[0mEulerToMatrix\u001B[0m\u001B[0;34m(\u001B[0m\u001B[0mH\u001B[0m\u001B[0;34m)\u001B[0m\u001B[0;34m:\u001B[0m\u001B[0;34m\u001B[0m\u001B[0;34m\u001B[0m\u001B[0m\n\u001B[0;32m---> 16\u001B[0;31m     \u001B[0mx\u001B[0m\u001B[0;34m,\u001B[0m \u001B[0my\u001B[0m\u001B[0;34m,\u001B[0m \u001B[0mz\u001B[0m \u001B[0;34m=\u001B[0m \u001B[0mH\u001B[0m\u001B[0;34m[\u001B[0m\u001B[0;36m0\u001B[0m\u001B[0;34m,\u001B[0m\u001B[0;36m0\u001B[0m\u001B[0;34m]\u001B[0m\u001B[0;34m,\u001B[0m \u001B[0mH\u001B[0m\u001B[0;34m[\u001B[0m\u001B[0;36m1\u001B[0m\u001B[0;34m,\u001B[0m\u001B[0;36m0\u001B[0m\u001B[0;34m]\u001B[0m\u001B[0;34m,\u001B[0m \u001B[0mH\u001B[0m\u001B[0;34m[\u001B[0m\u001B[0;36m2\u001B[0m\u001B[0;34m,\u001B[0m\u001B[0;36m0\u001B[0m\u001B[0;34m]\u001B[0m  \u001B[0;31m# 单位为角度\u001B[0m\u001B[0;34m\u001B[0m\u001B[0;34m\u001B[0m\u001B[0m\n\u001B[0m\u001B[1;32m     17\u001B[0m     \u001B[0mx\u001B[0m\u001B[0;34m,\u001B[0m \u001B[0my\u001B[0m\u001B[0;34m,\u001B[0m \u001B[0mz\u001B[0m \u001B[0;34m=\u001B[0m \u001B[0mx\u001B[0m \u001B[0;34m*\u001B[0m \u001B[0mpi\u001B[0m \u001B[0;34m/\u001B[0m \u001B[0;36m180\u001B[0m\u001B[0;34m,\u001B[0m \u001B[0my\u001B[0m \u001B[0;34m*\u001B[0m \u001B[0mpi\u001B[0m \u001B[0;34m/\u001B[0m \u001B[0;36m180\u001B[0m\u001B[0;34m,\u001B[0m \u001B[0mz\u001B[0m \u001B[0;34m*\u001B[0m \u001B[0mpi\u001B[0m \u001B[0;34m/\u001B[0m \u001B[0;36m180\u001B[0m\u001B[0;34m\u001B[0m\u001B[0;34m\u001B[0m\u001B[0m\n\u001B[1;32m     18\u001B[0m     r11, r12, r13 = cos(z) * cos(y), cos(z) * sin(y) * sin(x) - sin(z) * cos(x), cos(z) * sin(y) * cos(x) + sin(\n",
      "\u001B[0;31mIndexError\u001B[0m: index 1 is out of bounds for axis 0 with size 1"
     ]
    }
   ],
   "source": [
    "test.my_Func(params,theoryData[0])"
   ],
   "metadata": {
    "collapsed": false,
    "pycharm": {
     "name": "#%%\n"
    }
   }
  },
  {
   "cell_type": "code",
   "execution_count": null,
   "outputs": [],
   "source": [],
   "metadata": {
    "collapsed": false,
    "pycharm": {
     "name": "#%%\n"
    }
   }
  }
 ],
 "metadata": {
  "kernelspec": {
   "name": "pycharm-ed95a014",
   "language": "python",
   "display_name": "PyCharm (磁定位)"
  },
  "language_info": {
   "codemirror_mode": {
    "name": "ipython",
    "version": 2
   },
   "file_extension": ".py",
   "mimetype": "text/x-python",
   "name": "python",
   "nbconvert_exporter": "python",
   "pygments_lexer": "ipython2",
   "version": "2.7.6"
  }
 },
 "nbformat": 4,
 "nbformat_minor": 0
}