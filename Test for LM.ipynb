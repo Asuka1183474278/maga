{
 "cells": [
  {
   "cell_type": "code",
   "execution_count": 7,
   "outputs": [
    {
     "name": "stderr",
     "output_type": "stream",
     "text": [
      "<ipython-input-7-9502b000083e>:3: VisibleDeprecationWarning: Creating an ndarray from ragged nested sequences (which is a list-or-tuple of lists-or-tuples-or ndarrays with different lengths or shapes) is deprecated. If you meant to do this, you must specify 'dtype=object' when creating the ndarray.\n",
      "  SensorPosition = np.array([\n"
     ]
    }
   ],
   "source": [
    "import numpy as np\n",
    "# 16个传感器位置\n",
    "SensorPosition = np.array([\n",
    "    [[0.12], [0.12], [0]],\n",
    "    [0.12], [0.04], [0],\n",
    "    [[0.12], [-0.04], [0]],\n",
    "    [[0.12], [-0.12], [0]],\n",
    "    [[0.04], [0.12], [0]],\n",
    "    [[0.04], [0.04], [0]],\n",
    "    [[0.04], [-0.04], [0]],\n",
    "    [[0.04], [-0.12], [0]],\n",
    "    [[-0.04], [0.12], [0]],\n",
    "    [[-0.04], [0.04], [0]],\n",
    "    [[-0.04], [-0.04], [0]],\n",
    "    [[-0.04], [-0.12], [0]],\n",
    "    [[-0.12], [0.12], [0]],\n",
    "    [[-0.12], [0.04], [0]],\n",
    "    [[-0.12], [-0.04], [0]],\n",
    "    [[-0.12], [-0.12], [0]]\n",
    "     ])"
   ],
   "metadata": {
    "collapsed": false,
    "pycharm": {
     "name": "#%%\n"
    }
   }
  },
  {
   "cell_type": "code",
   "execution_count": 8,
   "outputs": [],
   "source": [
    "# 磁铁位置范围\n",
    "length=200  #测试点个数\n",
    "x11 = -0.12; x12 = 0.12;\n",
    "y11 = -0.12; y12 = 0.12;\n",
    "z11 = 0.05; z12 = 0.25;\n",
    "\n",
    "xx1 = np.array([[x11], [y11], [z11], [0], [0]])\n",
    "xx2 = np.array([[x12], [y12], [z12], [np.pi/2], [np.pi/2]])\n",
    "Traj = np.empty((200, 5,1))\n",
    "for i in range(length):\n",
    "    Traj[i, :] = xx1 + (xx2 -xx1) * np.random.rand(5,1)"
   ],
   "metadata": {
    "collapsed": false,
    "pycharm": {
     "name": "#%%\n"
    }
   }
  },
  {
   "cell_type": "code",
   "execution_count": 9,
   "outputs": [],
   "source": [
    "# 磁矩M\n",
    "mag_diameter = 6.05e-3\n",
    "mag_length = 1.25e-3\n",
    "mag_BR = 14800\n",
    "mag_BT = mag_BR* (mag_diameter**2) * (mag_length / 16)\n",
    "M = np.empty((200,3,1))\n",
    "for i in range(length):\n",
    "    M[i, :] = np.array([np.sin(Traj[i, 3]) * np.cos(Traj[i, 4]), np.sin(Traj[i, 3]) * np.sin(Traj[i, 4]), np.cos(Traj[i, 4])])\n",
    "\n"
   ],
   "metadata": {
    "collapsed": false,
    "pycharm": {
     "name": "#%%\n"
    }
   }
  },
  {
   "cell_type": "code",
   "execution_count": 10,
   "outputs": [],
   "source": [
    "theoryData = np.empty((16, 200, 3, 1))\n",
    "for j in range(16):\n",
    "    for i in range(200):\n",
    "        R = np.linalg.norm(SensorPosition[j] - Traj[i, 0:3])\n",
    "        theoryData[j, i] = (mag_BT * 3 * np.dot(M[i].T, SensorPosition[j] - Traj[i, 0:3])* (SensorPosition[j] - Traj[i, 0:3])- (R **2) * M[i] )/ (R ** 5)\n"
   ],
   "metadata": {
    "collapsed": false,
    "pycharm": {
     "name": "#%%\n"
    }
   }
  },
  {
   "cell_type": "code",
   "execution_count": 11,
   "outputs": [
    {
     "name": "stderr",
     "output_type": "stream",
     "text": [
      "<ipython-input-11-99f749967be9>:2: DeprecationWarning: `np.int` is a deprecated alias for the builtin `int`. To silence this warning, use `int` by itself. Doing this will not modify any behavior and is safe. When replacing `np.int`, you may wish to use e.g. `np.int64` or `np.int32` to specify the precision. If you wish to review your current use, check the release note link for additional information.\n",
      "Deprecated in NumPy 1.20; for more details and guidance: https://numpy.org/devdocs/release/1.20.0-notes.html#deprecations\n",
      "  Gain = np.empty((16, 3, 1),dtype=np.int)\n"
     ]
    }
   ],
   "source": [
    "# 16个传感器增益\n",
    "Gain = np.empty((16, 3, 1),dtype=np.int)\n",
    "for i in range(16):\n",
    "    Gain[i] = np.array([[1800], [1800], [1800]]) +  200 * np.random.rand(3,1)\n",
    "\n",
    "#传感器偏置\n",
    "Offset = np.empty((16, 3, 1))\n",
    "for i in range(16):\n",
    "    Offset[i] = np.random.uniform(-0.05, 0.05, (3,1))\n",
    "\n",
    "#传感器旋转矩阵\n",
    "H = np.ones((16,3,1))\n"
   ],
   "metadata": {
    "collapsed": false,
    "pycharm": {
     "name": "#%%\n"
    }
   }
  }
 ],
 "metadata": {
  "kernelspec": {
   "name": "pycharm-ed95a014",
   "language": "python",
   "display_name": "PyCharm (磁定位)"
  },
  "language_info": {
   "codemirror_mode": {
    "name": "ipython",
    "version": 2
   },
   "file_extension": ".py",
   "mimetype": "text/x-python",
   "name": "python",
   "nbconvert_exporter": "python",
   "pygments_lexer": "ipython2",
   "version": "2.7.6"
  }
 },
 "nbformat": 4,
 "nbformat_minor": 0
}